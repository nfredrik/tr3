{
 "cells": [
  {
   "cell_type": "code",
   "execution_count": null,
   "metadata": {},
   "outputs": [],
   "source": []
  },
  {
   "cell_type": "code",
   "execution_count": 45,
   "metadata": {},
   "outputs": [],
   "source": [
    "import http.client\n",
    "import json\n",
    "\n",
    "class ArpEntry:\n",
    "    def __init__(self, interface, ip_address, mac_address, entry_type):\n",
    "        self.interface = interface\n",
    "        self.ip_address = ip_address\n",
    "        self.mac_address = mac_address\n",
    "        self.entry_type = entry_type\n",
    "        self.vendor = self.__get_mac_vendor(self.mac_address)\n",
    "\n",
    "    def __get_mac_vendor(self, mac_address):\n",
    "        mac_address = mac_address.replace('-', ':')\n",
    "        print(f'{mac_address=}')\n",
    "        conn = http.client.HTTPSConnection(\"www.macvendorlookup.com\")\n",
    "        conn.request(\"GET\", f\"/api/v2/{mac_address}\")\n",
    "    \n",
    "        response = conn.getresponse()\n",
    "        data = response.read()\n",
    "    \n",
    "        if response.status == 200:\n",
    "            try:\n",
    "                return json.loads(data)[0]['company']\n",
    "            except:\n",
    "                return None\n",
    "        else:\n",
    "            return None    "
   ]
  },
  {
   "cell_type": "code",
   "execution_count": 46,
   "metadata": {},
   "outputs": [
    {
     "name": "stdout",
     "output_type": "stream",
     "text": [
      "Help on class ArpEntry in module __main__:\n",
      "\n",
      "class ArpEntry(builtins.object)\n",
      " |  ArpEntry(interface, ip_address, mac_address, entry_type)\n",
      " |\n",
      " |  Methods defined here:\n",
      " |\n",
      " |  __init__(self, interface, ip_address, mac_address, entry_type)\n",
      " |      Initialize self.  See help(type(self)) for accurate signature.\n",
      " |\n",
      " |  ----------------------------------------------------------------------\n",
      " |  Data descriptors defined here:\n",
      " |\n",
      " |  __dict__\n",
      " |      dictionary for instance variables\n",
      " |\n",
      " |  __weakref__\n",
      " |      list of weak references to the object\n",
      "\n"
     ]
    }
   ],
   "source": [
    "help(ArpEntry)"
   ]
  },
  {
   "cell_type": "code",
   "execution_count": 47,
   "metadata": {},
   "outputs": [],
   "source": [
    "import re\n",
    "def parse_arp_output(output):\n",
    "    arp_entries = []\n",
    "    current_interface = None\n",
    "\n",
    "    for line in output.splitlines():\n",
    "        interface_match = re.match(r'Interface: (\\S+)', line)\n",
    "        if interface_match:\n",
    "            current_interface = interface_match.group(1)\n",
    "        else:\n",
    "            entry_match = re.match(r'\\s+(\\S+)\\s+(\\S+)\\s+(\\S+)', line)\n",
    "            if entry_match and current_interface:\n",
    "                ip_address, mac_address, entry_type = entry_match.groups()\n",
    "                arp_entries.append(ArpEntry(current_interface, ip_address, mac_address, entry_type))\n",
    "\n",
    "    return arp_entries\n"
   ]
  },
  {
   "cell_type": "code",
   "execution_count": 48,
   "metadata": {},
   "outputs": [
    {
     "name": "stdout",
     "output_type": "stream",
     "text": [
      "mac_address='Address'\n",
      "mac_address='00:11:22:33:44:55'\n",
      "mac_address='ff:ff:ff:ff:ff:ff'\n",
      "mac_address='01:00:5e:00:00:16'\n",
      "mac_address='01:00:5e:00:00:fb'\n",
      "mac_address='01:00:5e:00:00:fc'\n",
      "mac_address='01:00:5e:7f:ff:fa'\n",
      "mac_address='Address'\n",
      "mac_address='70:3a:cb:ab:9f:35'\n",
      "mac_address='01:00:5e:00:00:16'\n",
      "mac_address='ff:ff:ff:ff:ff:ff'\n"
     ]
    }
   ],
   "source": [
    "arp_output = \"\"\"\n",
    "Interface: 172.20.124.151 --- 0x5\n",
    "  Internet Address      Physical Address      Type\n",
    "  172.20.124.1          00-11-22-33-44-55     dynamic\n",
    "  172.20.125.255        ff-ff-ff-ff-ff-ff     static\n",
    "  224.0.0.22            01-00-5e-00-00-16     static\n",
    "  224.0.0.251           01-00-5e-00-00-fb     static\n",
    "  224.0.0.252           01-00-5e-00-00-fc     static\n",
    "  239.255.255.250       01-00-5e-7f-ff-fa     static\n",
    "\n",
    "Interface: 192.168.86.27 --- 0xe\n",
    "  Internet Address      Physical Address      Type\n",
    "  192.168.86.1          70-3a-cb-ab-9f-35     dynamic\n",
    "  224.0.0.22            01-00-5e-00-00-16     static\n",
    "  255.255.255.255       ff-ff-ff-ff-ff-ff     static\n",
    "\"\"\"\n",
    "\n",
    "arp_entries = parse_arp_output(arp_output)"
   ]
  },
  {
   "cell_type": "code",
   "execution_count": 49,
   "metadata": {},
   "outputs": [
    {
     "name": "stdout",
     "output_type": "stream",
     "text": [
      "Interface: 172.20.124.151, IP Address: Internet, MAC Address: Address, Type: Physical None \n",
      "Interface: 172.20.124.151, IP Address: 172.20.124.1, MAC Address: 00-11-22-33-44-55, Type: dynamic CIMSYS Inc \n",
      "Interface: 172.20.124.151, IP Address: 172.20.125.255, MAC Address: ff-ff-ff-ff-ff-ff, Type: static None \n",
      "Interface: 172.20.124.151, IP Address: 224.0.0.22, MAC Address: 01-00-5e-00-00-16, Type: static None \n",
      "Interface: 172.20.124.151, IP Address: 224.0.0.251, MAC Address: 01-00-5e-00-00-fb, Type: static None \n",
      "Interface: 172.20.124.151, IP Address: 224.0.0.252, MAC Address: 01-00-5e-00-00-fc, Type: static None \n",
      "Interface: 172.20.124.151, IP Address: 239.255.255.250, MAC Address: 01-00-5e-7f-ff-fa, Type: static None \n",
      "Interface: 192.168.86.27, IP Address: Internet, MAC Address: Address, Type: Physical None \n",
      "Interface: 192.168.86.27, IP Address: 192.168.86.1, MAC Address: 70-3a-cb-ab-9f-35, Type: dynamic Google, Inc. \n",
      "Interface: 192.168.86.27, IP Address: 224.0.0.22, MAC Address: 01-00-5e-00-00-16, Type: static None \n",
      "Interface: 192.168.86.27, IP Address: 255.255.255.255, MAC Address: ff-ff-ff-ff-ff-ff, Type: static None \n"
     ]
    }
   ],
   "source": [
    "for entry in arp_entries:\n",
    "    print(f\"Interface: {entry.interface}, IP Address: {entry.ip_address}, MAC Address: {entry.mac_address}, Type: {entry.entry_type} {entry.vendor} \")\n"
   ]
  },
  {
   "cell_type": "code",
   "execution_count": 50,
   "metadata": {},
   "outputs": [
    {
     "data": {
      "text/plain": [
       "{'interface': '172.20.124.151',\n",
       " 'ip_address': 'Internet',\n",
       " 'mac_address': 'Address',\n",
       " 'entry_type': 'Physical',\n",
       " 'vendor': None}"
      ]
     },
     "execution_count": 50,
     "metadata": {},
     "output_type": "execute_result"
    }
   ],
   "source": [
    "first = arp_entries[0]\n",
    "first.__dict__\n"
   ]
  }
 ],
 "metadata": {
  "kernelspec": {
   "display_name": "test4",
   "language": "python",
   "name": "python3"
  },
  "language_info": {
   "codemirror_mode": {
    "name": "ipython",
    "version": 3
   },
   "file_extension": ".py",
   "mimetype": "text/x-python",
   "name": "python",
   "nbconvert_exporter": "python",
   "pygments_lexer": "ipython3",
   "version": "3.12.5"
  }
 },
 "nbformat": 4,
 "nbformat_minor": 2
}
