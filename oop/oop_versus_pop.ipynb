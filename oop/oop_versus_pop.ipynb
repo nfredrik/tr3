{
 "cells": [
  {
   "cell_type": "markdown",
   "metadata": {},
   "source": [
    "Procedural Oriented Programming"
   ]
  },
  {
   "cell_type": "code",
   "execution_count": 2,
   "metadata": {},
   "outputs": [
    {
     "name": "stdout",
     "output_type": "stream",
     "text": [
      "1984 by George Orwell\n",
      "To Kill a Mockingbird by Harper Lee\n",
      "after removed a book!\n",
      "To Kill a Mockingbird by Harper Lee\n"
     ]
    }
   ],
   "source": [
    "\n",
    "# Function to add a book\n",
    "def add_book(library:list, book:str) -> None:\n",
    "    library.append(book)\n",
    "\n",
    "# Function to remove a book\n",
    "def remove_book(library:list, book:str) -> None:\n",
    "    library.remove(book)\n",
    "\n",
    "# Function to display all books\n",
    "def display_books(library:list) -> None:\n",
    "    for book in library:\n",
    "        print(book)\n",
    "\n",
    "# Main program\n",
    "library = []\n",
    "add_book(library, \"1984 by George Orwell\")\n",
    "add_book(library, \"To Kill a Mockingbird by Harper Lee\")\n",
    "display_books(library)\n",
    "remove_book(library, \"1984 by George Orwell\")\n",
    "print('---after removed a book---')\n",
    "display_books(library)\n"
   ]
  },
  {
   "cell_type": "markdown",
   "metadata": {},
   "source": [
    "Object Oriented Programming"
   ]
  },
  {
   "cell_type": "code",
   "execution_count": 5,
   "metadata": {},
   "outputs": [
    {
     "name": "stdout",
     "output_type": "stream",
     "text": [
      "1984 by George Orwell\n",
      "To Kill a Mockingbird by Harper Lee\n",
      "To Kill a Mockingbird by Harper Lee\n"
     ]
    }
   ],
   "source": [
    "\n",
    "\n",
    "class Book:\n",
    "    def __init__(self, title:str, author:str) -> None:\n",
    "        self.title = title\n",
    "        self.author = author\n",
    "\n",
    "    def __str__(self) -> str:\n",
    "        return f\"{self.title} by {self.author}\"\n",
    "\n",
    "class Library:\n",
    "    def __init__(self) -> None:\n",
    "        self.books = []\n",
    "\n",
    "    def add_book(self, book: Book) -> None:\n",
    "        self.books.append(book)\n",
    "\n",
    "    def remove_book(self, book: Book) -> None:\n",
    "        self.books.remove(book)\n",
    "\n",
    "    def display_books(self) -> None:\n",
    "        for book in self.books:\n",
    "            print(book)\n",
    "\n",
    "# Main program\n",
    "library = Library()\n",
    "book1 = Book(\"1984\", \"George Orwell\")\n",
    "book2 = Book(\"To Kill a Mockingbird\", \"Harper Lee\")\n",
    "library.add_book(book1)\n",
    "library.add_book(book2)\n",
    "library.display_books()\n",
    "library.remove_book(book1)\n",
    "library.display_books()\n"
   ]
  }
 ],
 "metadata": {
  "kernelspec": {
   "display_name": "test4",
   "language": "python",
   "name": "python3"
  },
  "language_info": {
   "codemirror_mode": {
    "name": "ipython",
    "version": 3
   },
   "file_extension": ".py",
   "mimetype": "text/x-python",
   "name": "python",
   "nbconvert_exporter": "python",
   "pygments_lexer": "ipython3",
   "version": "3.12.5"
  }
 },
 "nbformat": 4,
 "nbformat_minor": 2
}
