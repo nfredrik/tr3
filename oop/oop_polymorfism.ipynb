{
 "cells": [
  {
   "cell_type": "code",
   "execution_count": 2,
   "metadata": {},
   "outputs": [],
   "source": [
    "from abc import ABC, abstractmethod\n",
    "import math\n",
    "import random\n"
   ]
  },
  {
   "cell_type": "code",
   "execution_count": 3,
   "metadata": {},
   "outputs": [
    {
     "name": "stdout",
     "output_type": "stream",
     "text": [
      "Help on class ABC in module abc:\n",
      "\n",
      "class ABC(builtins.object)\n",
      " |  Helper class that provides a standard way to create an ABC using\n",
      " |  inheritance.\n",
      " |\n",
      " |  Data and other attributes defined here:\n",
      " |\n",
      " |  __abstractmethods__ = frozenset()\n",
      "\n"
     ]
    }
   ],
   "source": [
    "help(ABC)"
   ]
  },
  {
   "cell_type": "markdown",
   "metadata": {},
   "source": [
    "ABC == Abstract Base Class"
   ]
  },
  {
   "cell_type": "code",
   "execution_count": 8,
   "metadata": {},
   "outputs": [],
   "source": [
    "\n",
    "class Shape(ABC):\n",
    "    @abstractmethod\n",
    "    def area(self):\n",
    "        pass"
   ]
  },
  {
   "cell_type": "code",
   "execution_count": 14,
   "metadata": {},
   "outputs": [
    {
     "data": {
      "text/plain": [
       "8"
      ]
     },
     "execution_count": 14,
     "metadata": {},
     "output_type": "execute_result"
    }
   ],
   "source": [
    "\n",
    "class Circle(Shape):\n",
    "    def __init__(self, radius:float):\n",
    "        self.radius = radius\n",
    "       \n",
    "    def area(self):\n",
    "        return math.pi * 2 * self.radius\n",
    "       \n",
    "       \n",
    "\n",
    "class Rectangle(Shape):\n",
    "    def __init__(self, b:float, w:float):\n",
    "        self.b = b\n",
    "        self.w = w\n",
    "       \n",
    "    def area(self):\n",
    "        return self.b * self.w\n",
    "       \n",
    "\n",
    "class Triangle(Shape):\n",
    "        def __init__(self,r:float,v:float, l:float):\n",
    "            self.r = r\n",
    "            self.v = v\n",
    "            self.l = l\n",
    "           \n",
    "           \n",
    "           \n",
    "              \n",
    "   \n",
    "shapes = [Circle(1.2), Rectangle(2, 4)]\n",
    "\n",
    "#shapes = [Circle(1.2), Rectangle(2, 4), Triangle(1,2,3)]\n",
    "\n",
    "   \n",
    "shape = random.choice(shapes)\n",
    "\n",
    "shape.area()"
   ]
  }
 ],
 "metadata": {
  "kernelspec": {
   "display_name": "test4",
   "language": "python",
   "name": "python3"
  },
  "language_info": {
   "codemirror_mode": {
    "name": "ipython",
    "version": 3
   },
   "file_extension": ".py",
   "mimetype": "text/x-python",
   "name": "python",
   "nbconvert_exporter": "python",
   "pygments_lexer": "ipython3",
   "version": "3.12.5"
  }
 },
 "nbformat": 4,
 "nbformat_minor": 2
}
