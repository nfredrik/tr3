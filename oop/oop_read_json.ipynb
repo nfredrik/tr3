{
 "cells": [
  {
   "cell_type": "markdown",
   "metadata": {},
   "source": [
    "The double splat operator, **"
   ]
  },
  {
   "cell_type": "code",
   "execution_count": 6,
   "metadata": {},
   "outputs": [
    {
     "name": "stdout",
     "output_type": "stream",
     "text": [
      "Hello, my name is Alice and I am 30 years old.\n"
     ]
    }
   ],
   "source": [
    "def greet(name, age):\n",
    "    return f\"Hello, my name is {name} and I am {age} years old.\"\n",
    "\n",
    "person = {\"name\": \"Alice\", \"age\": 30}\n",
    "message = greet(**person)  # Equivalent to greet(name=\"Alice\", age=30)\n",
    "print(message)  # Output: Hello, my name is Alice and I am 30 years old.\n"
   ]
  },
  {
   "cell_type": "code",
   "execution_count": 7,
   "metadata": {},
   "outputs": [],
   "source": [
    "class Geo:\n",
    "    def __init__(self, lat, lng):\n",
    "        self.lat = lat\n",
    "        self.lng = lng\n",
    "\n",
    "class Address:\n",
    "    def __init__(self, street, suite, city, zipcode, geo:Geo):\n",
    "        self.street = street\n",
    "        self.suite = suite\n",
    "        self.city = city\n",
    "        self.zipcode = zipcode\n",
    "        self.geo = Geo(**geo)\n",
    "\n",
    "class Company:\n",
    "    def __init__(self, name, catchPhrase, bs):\n",
    "        self.name = name\n",
    "        self.catchPhrase = catchPhrase\n",
    "        self.bs = bs\n",
    "\n",
    "class User:\n",
    "    def __init__(self, id, name, username, email, address:Address, phone, website, company:Company):\n",
    "        self.id = id\n",
    "        self.name = name\n",
    "        self.username = username\n",
    "        self.email = email\n",
    "        self.address = Address(**address)\n",
    "        self.phone = phone\n",
    "        self.website = website\n",
    "        self.company = Company(**company)\n"
   ]
  },
  {
   "cell_type": "code",
   "execution_count": 4,
   "metadata": {},
   "outputs": [
    {
     "name": "stdout",
     "output_type": "stream",
     "text": [
      "Romaguera-Crona\n"
     ]
    }
   ],
   "source": [
    "# Example usage\n",
    "user_data = {\n",
    "    \"id\": 1,\n",
    "    \"name\": \"Leanne Graham\",\n",
    "    \"username\": \"Bret\",\n",
    "    \"email\": \"Sincere@april.biz\",\n",
    "    \"address\": {\n",
    "        \"street\": \"Kulas Light\",\n",
    "        \"suite\": \"Apt. 556\",\n",
    "        \"city\": \"Gwenborough\",\n",
    "        \"zipcode\": \"92998-3874\",\n",
    "        \"geo\": {\n",
    "            \"lat\": \"-37.3159\",\n",
    "            \"lng\": \"81.1496\"\n",
    "        }\n",
    "    },\n",
    "    \"phone\": \"1-770-736-8031 x56442\",\n",
    "    \"website\": \"hildegard.org\",\n",
    "    \"company\": {\n",
    "        \"name\": \"Romaguera-Crona\",\n",
    "        \"catchPhrase\": \"Multi-layered client-server neural-net\",\n",
    "        \"bs\": \"harness real-time e-markets\"\n",
    "    }\n",
    "}\n",
    "\n",
    "user = User(**user_data)\n",
    "print(user.company.name)  # Output: Leanne Graham"
   ]
  },
  {
   "cell_type": "markdown",
   "metadata": {},
   "source": []
  }
 ],
 "metadata": {
  "kernelspec": {
   "display_name": "test4",
   "language": "python",
   "name": "python3"
  },
  "language_info": {
   "codemirror_mode": {
    "name": "ipython",
    "version": 3
   },
   "file_extension": ".py",
   "mimetype": "text/x-python",
   "name": "python",
   "nbconvert_exporter": "python",
   "pygments_lexer": "ipython3",
   "version": "3.12.5"
  }
 },
 "nbformat": 4,
 "nbformat_minor": 2
}
