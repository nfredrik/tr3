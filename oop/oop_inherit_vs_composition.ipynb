{
 "cells": [
  {
   "cell_type": "code",
   "execution_count": null,
   "metadata": {},
   "outputs": [],
   "source": []
  },
  {
   "cell_type": "code",
   "execution_count": 1,
   "metadata": {},
   "outputs": [],
   "source": [
    "class PdfWriter:\n",
    "   def __init__(self):\n",
    "       ...\n",
    "\n",
    "   def drawstring(self, title:str):\n",
    "       ...\n",
    "   def endpage(self):\n",
    "       ...\n",
    "\n",
    "\n",
    "class PdfWriterMock:\n",
    "   def __init__(self):\n",
    "       ...\n",
    "\n",
    "   def drawstring(self, title:str):\n",
    "       ...\n",
    "   def endpage(self):\n",
    "       ...\n"
   ]
  },
  {
   "cell_type": "code",
   "execution_count": 2,
   "metadata": {},
   "outputs": [],
   "source": [
    "class PdfReportInherit(PdfWriter):\n",
    "\n",
    "   def __init__(self,):\n",
    "       super().__init__()\n",
    "\n",
    "   def make_report(self, title:str, text:str) -> None:\n",
    "       self.drawstring(title)\n",
    "       for t in text.split():\n",
    "           self.drawstring(t)\n",
    "       self.endpage()\n",
    "\n",
    "write = PdfWriter()\n",
    "report_inherit = PdfReportInherit()\n",
    "report_inherit.make_report(title='Meaning of Life', text =\"Lorem ipsum dolor sit amet, consectetur adipiscing elit, sed do eiusmod tempor\")\n",
    "\n"
   ]
  },
  {
   "cell_type": "code",
   "execution_count": 3,
   "metadata": {},
   "outputs": [],
   "source": [
    "class PdfReport:\n",
    "   def __init__(self, pdf=None):\n",
    "       self.pdf = pdf or PdfWriter()\n",
    "\n",
    "   def make_report(self, title:str, text:str) -> None:\n",
    "       self.pdf.drawstring(title)\n",
    "       for t in text.split():\n",
    "           self.pdf.drawstring(t)\n",
    "       self.pdf.endpage()\n",
    "\n",
    "\n"
   ]
  },
  {
   "cell_type": "code",
   "execution_count": null,
   "metadata": {},
   "outputs": [],
   "source": [
    "write_mock = PdfWriterMock()\n",
    "\n",
    "report_composition = PdfReport()\n",
    "\n",
    "report_composition = PdfReport(pdf=write_mock)\n"
   ]
  }
 ],
 "metadata": {
  "kernelspec": {
   "display_name": "test4",
   "language": "python",
   "name": "python3"
  },
  "language_info": {
   "codemirror_mode": {
    "name": "ipython",
    "version": 3
   },
   "file_extension": ".py",
   "mimetype": "text/x-python",
   "name": "python",
   "nbconvert_exporter": "python",
   "pygments_lexer": "ipython3",
   "version": "3.12.5"
  }
 },
 "nbformat": 4,
 "nbformat_minor": 2
}
