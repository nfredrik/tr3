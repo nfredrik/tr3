{
 "cells": [
  {
   "cell_type": "code",
   "execution_count": null,
   "metadata": {},
   "outputs": [],
   "source": []
  },
  {
   "cell_type": "code",
   "execution_count": 1,
   "metadata": {},
   "outputs": [],
   "source": [
    "import re\n",
    "from datetime import datetime\n",
    "from typing import List, Optional\n"
   ]
  },
  {
   "cell_type": "code",
   "execution_count": 3,
   "metadata": {},
   "outputs": [],
   "source": [
    "class ApacheLogEntry:\n",
    "    def __init__(self, ip: str, datetime: datetime, method: str, url: str, protocol: str, status: int, size: int, referer: str, user_agent: str):\n",
    "        self.ip = ip\n",
    "        self.datetime = datetime\n",
    "        self.method = method\n",
    "        self.url = url\n",
    "        self.protocol = protocol\n",
    "        self.status = status\n",
    "        self.size = size\n",
    "        self.referer = referer\n",
    "        self.user_agent = user_agent\n",
    "\n",
    "    def __repr__(self) -> str:\n",
    "        return f\"<ApacheLogEntry(ip={self.ip}, datetime={self.datetime}, method={self.method}, url={self.url}, status={self.status})>\"\n"
   ]
  },
  {
   "cell_type": "code",
   "execution_count": 4,
   "metadata": {},
   "outputs": [],
   "source": [
    "# Regular expression to parse log entries\n",
    "log_pattern = re.compile(r'(?P<ip>[\\d.]+) - - \\[(?P<datetime>[^\\]]+)\\] \"(?P<method>\\S+) (?P<url>\\S+) (?P<protocol>\\S+)\" (?P<status>\\d+) (?P<size>\\d+) \"(?P<referer>[^\"]*)\" \"(?P<user_agent>[^\"]*)\"')\n",
    "\n",
    "# Function to parse a log line\n",
    "def parse_log_line(line: str) -> Optional[ApacheLogEntry]:\n",
    "    match = log_pattern.match(line)\n",
    "    if match:\n",
    "        data = match.groupdict()\n",
    "        data['datetime'] = datetime.strptime(data['datetime'], '%d/%b/%Y:%H:%M:%S %z')\n",
    "        return ApacheLogEntry(\n",
    "            ip=data['ip'],\n",
    "            datetime=data['datetime'],\n",
    "            method=data['method'],\n",
    "            url=data['url'],\n",
    "            protocol=data['protocol'],\n",
    "            status=int(data['status']),\n",
    "            size=int(data['size']),\n",
    "            referer=data['referer'],\n",
    "            user_agent=data['user_agent']\n",
    "        )\n",
    "    return None"
   ]
  },
  {
   "cell_type": "code",
   "execution_count": 5,
   "metadata": {},
   "outputs": [
    {
     "name": "stdout",
     "output_type": "stream",
     "text": [
      "<ApacheLogEntry(ip=83.149.9.216, datetime=2015-05-17 10:05:03+00:00, method=GET, url=/presentations/logstash-monitorama-2013/images/kibana-search.png, status=200)>\n",
      "<ApacheLogEntry(ip=83.149.9.216, datetime=2015-05-17 10:05:43+00:00, method=GET, url=/presentations/logstash-monitorama-2013/images/kibana-dashboard3.png, status=200)>\n",
      "<ApacheLogEntry(ip=83.149.9.216, datetime=2015-05-17 10:05:47+00:00, method=GET, url=/presentations/logstash-monitorama-2013/plugin/highlight/highlight.js, status=200)>\n"
     ]
    }
   ],
   "source": [
    "# Example log lines\n",
    "log_lines: List[str] = [\n",
    "    '83.149.9.216 - - [17/May/2015:10:05:03 +0000] \"GET /presentations/logstash-monitorama-2013/images/kibana-search.png HTTP/1.1\" 200 203023 \"http://semicomplete.com/presentations/logstash-monitorama-2013/\" \"Mozilla/5.0 (Macintosh; Intel Mac OS X 10_9_1) AppleWebKit/537.36 (KHTML, like Gecko) Chrome/32.0.1700.77 Safari/537.36\"',\n",
    "    '83.149.9.216 - - [17/May/2015:10:05:43 +0000] \"GET /presentations/logstash-monitorama-2013/images/kibana-dashboard3.png HTTP/1.1\" 200 171717 \"http://semicomplete.com/presentations/logstash-monitorama-2013/\" \"Mozilla/5.0 (Macintosh; Intel Mac OS X 10_9_1) AppleWebKit/537.36 (KHTML, like Gecko) Chrome/32.0.1700.77 Safari/537.36\"',\n",
    "    '83.149.9.216 - - [17/May/2015:10:05:47 +0000] \"GET /presentations/logstash-monitorama-2013/plugin/highlight/highlight.js HTTP/1.1\" 200 26185 \"http://semicomplete.com/presentations/logstash-monitorama-2013/\" \"Mozilla/5.0 (Macintosh; Intel Mac OS X 10_9_1) AppleWebKit/537.36 (KHTML, like Gecko) Chrome/32.0.1700.77 Safari/537.36\"'\n",
    "]\n",
    "\n",
    "# Parse log lines and store in objects\n",
    "log_entries: List[Optional[ApacheLogEntry]] = [parse_log_line(line) for line in log_lines]\n",
    "\n",
    "# Print parsed log entries\n",
    "for entry in log_entries:\n",
    "    print(entry)\n"
   ]
  }
 ],
 "metadata": {
  "kernelspec": {
   "display_name": "test4",
   "language": "python",
   "name": "python3"
  },
  "language_info": {
   "codemirror_mode": {
    "name": "ipython",
    "version": 3
   },
   "file_extension": ".py",
   "mimetype": "text/x-python",
   "name": "python",
   "nbconvert_exporter": "python",
   "pygments_lexer": "ipython3",
   "version": "3.12.5"
  }
 },
 "nbformat": 4,
 "nbformat_minor": 2
}
